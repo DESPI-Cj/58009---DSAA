{
  "nbformat": 4,
  "nbformat_minor": 0,
  "metadata": {
    "colab": {
      "provenance": [],
      "authorship_tag": "ABX9TyOl7uMkhG9NQryaxKOR1+Y4",
      "include_colab_link": true
    },
    "kernelspec": {
      "name": "python3",
      "display_name": "Python 3"
    },
    "language_info": {
      "name": "python"
    }
  },
  "cells": [
    {
      "cell_type": "markdown",
      "metadata": {
        "id": "view-in-github",
        "colab_type": "text"
      },
      "source": [
        "<a href=\"https://colab.research.google.com/github/DESPI-Cj/58009---DSAA/blob/main/Example_1.ipynb\" target=\"_parent\"><img src=\"https://colab.research.google.com/assets/colab-badge.svg\" alt=\"Open In Colab\"/></a>"
      ]
    },
    {
      "cell_type": "code",
      "execution_count": 6,
      "metadata": {
        "colab": {
          "base_uri": "https://localhost:8080/"
        },
        "id": "cRqdlvTLv6hr",
        "outputId": "2b236069-2ad6-4ba0-d52a-b2ac88b8e261"
      },
      "outputs": [
        {
          "output_type": "stream",
          "name": "stdout",
          "text": [
            "Input length: 3\n",
            "Input Width: 3\n",
            "The area of the rectangle is 9\n"
          ]
        }
      ],
      "source": [
        "class Shape:\n",
        "\n",
        "  def __init__(self,length,width):\n",
        "    self.length = length\n",
        "    self.width = width\n",
        "\n",
        "  def Area(self):\n",
        "    print(\"The area of the rectangle is\", self.length*self.width)\n",
        "\n",
        "rectangle = Shape(int(input(\"Input length: \")),int(input(\"Input Width: \")))\n",
        "rectangle.Area()\n",
        "\n",
        "#Made by Despi, Christian Jhomel A."
      ]
    }
  ]
}