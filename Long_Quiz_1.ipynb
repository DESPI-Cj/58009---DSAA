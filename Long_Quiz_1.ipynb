{
  "nbformat": 4,
  "nbformat_minor": 0,
  "metadata": {
    "colab": {
      "provenance": [],
      "authorship_tag": "ABX9TyMnQm4PxSPu86PsMArJ59Yh",
      "include_colab_link": true
    },
    "kernelspec": {
      "name": "python3",
      "display_name": "Python 3"
    },
    "language_info": {
      "name": "python"
    }
  },
  "cells": [
    {
      "cell_type": "markdown",
      "metadata": {
        "id": "view-in-github",
        "colab_type": "text"
      },
      "source": [
        "<a href=\"https://colab.research.google.com/github/DESPI-Cj/58009---DSAA/blob/main/Long_Quiz_1.ipynb\" target=\"_parent\"><img src=\"https://colab.research.google.com/assets/colab-badge.svg\" alt=\"Open In Colab\"/></a>"
      ]
    },
    {
      "cell_type": "markdown",
      "source": [
        "Create a python or C++ program that appends each character of your full name and displays each character in reverse order (50 points)"
      ],
      "metadata": {
        "id": "BHtTgAxa5zKb"
      }
    },
    {
      "cell_type": "code",
      "source": [
        "\n",
        "name = \"Christian Jhomel A. Despi\"\n",
        "forward_name = []\n",
        "reverse_name = []\n",
        "\n",
        "#Putting each character in string into the array\n",
        "for x in name:\n",
        "  forward_name.append(x)\n",
        "print(\"Name: Christian Jhomel A. Despi\", end=None)\n",
        "\n",
        "#Reversing the order into a new array\n",
        "#P.S nakalimutan ko po na may .reverse kaya ganito po naisip ko :p\n",
        "for x in forward_name:\n",
        "  reverse_name.insert(0,x)\n",
        "print(\"Reverse order\", end=\": \")\n",
        "\n",
        "#Print reverse\n",
        "for x in reverse_name:\n",
        "  print(x, end=\"\")\n",
        "\n",
        "\n"
      ],
      "metadata": {
        "colab": {
          "base_uri": "https://localhost:8080/"
        },
        "id": "_hwpXWwV52CC",
        "outputId": "3c4e2836-6af0-440a-e40f-9b7c621e4dfc"
      },
      "execution_count": 79,
      "outputs": [
        {
          "output_type": "stream",
          "name": "stdout",
          "text": [
            "Name: Christian Jhomel A. Despi\n",
            "Reverse order: ipseD .A lemohJ naitsirhC"
          ]
        }
      ]
    },
    {
      "cell_type": "markdown",
      "source": [
        "Using the set of positive whole numbers from 1 to 10, create a python or C++ program that displays if it is prime or composite. (50 points)"
      ],
      "metadata": {
        "id": "PrFog3Nh9den"
      }
    },
    {
      "cell_type": "code",
      "source": [
        "number = [1,2,3,4,5,6,7,8,9,10]\n",
        "for x in number:\n",
        "    is_prime = True\n",
        "    is_composite = False\n",
        "\n",
        "    #Process of checking if x in number is prime or composite\n",
        "    for i in range(2, x):\n",
        "        if x % i == 0:\n",
        "            is_prime = False\n",
        "            is_composite = True  #\n",
        "            break\n",
        "\n",
        "    if x == 1: #Check if number is 1 because it is neither composite or prime\n",
        "      print(x, \"is neither composite or prime\")\n",
        "    elif is_prime:\n",
        "        print(x, \"is prime\")\n",
        "    elif is_composite:\n",
        "        print(x, \"is composite\")\n"
      ],
      "metadata": {
        "colab": {
          "base_uri": "https://localhost:8080/"
        },
        "id": "mcWDgwfmFE6P",
        "outputId": "1ef24b3d-55bd-421e-f531-9e1674c0d488"
      },
      "execution_count": 81,
      "outputs": [
        {
          "output_type": "stream",
          "name": "stdout",
          "text": [
            "1 is neither composite or prime\n",
            "2 is prime\n",
            "3 is prime\n",
            "4 is composite\n",
            "5 is prime\n",
            "6 is composite\n",
            "7 is prime\n",
            "8 is composite\n",
            "9 is composite\n",
            "10 is composite\n"
          ]
        }
      ]
    },
    {
      "cell_type": "code",
      "source": [],
      "metadata": {
        "id": "qY4X7Y6xGZZF"
      },
      "execution_count": null,
      "outputs": []
    }
  ]
}