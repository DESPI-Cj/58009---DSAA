{
  "nbformat": 4,
  "nbformat_minor": 0,
  "metadata": {
    "colab": {
      "provenance": [],
      "authorship_tag": "ABX9TyMs8X08O7yfqq9tmOoestVb",
      "include_colab_link": true
    },
    "kernelspec": {
      "name": "python3",
      "display_name": "Python 3"
    },
    "language_info": {
      "name": "python"
    }
  },
  "cells": [
    {
      "cell_type": "markdown",
      "metadata": {
        "id": "view-in-github",
        "colab_type": "text"
      },
      "source": [
        "<a href=\"https://colab.research.google.com/github/DESPI-Cj/58009---DSAA/blob/main/Linkedlist.ipynb\" target=\"_parent\"><img src=\"https://colab.research.google.com/assets/colab-badge.svg\" alt=\"Open In Colab\"/></a>"
      ]
    },
    {
      "cell_type": "code",
      "execution_count": null,
      "metadata": {
        "colab": {
          "base_uri": "https://localhost:8080/"
        },
        "id": "n8H2MUCpr1sc",
        "outputId": "f91dcb18-8a1a-452c-f416-c852688a2c4a"
      },
      "outputs": [
        {
          "output_type": "execute_result",
          "data": {
            "text/plain": [
              "array('f', [1.5, 2.5, 3.5, 4.5, 5.5, 6.5])"
            ]
          },
          "metadata": {},
          "execution_count": 7
        }
      ],
      "source": [
        "import array\n",
        "array.typecodes #get all typecodes>>\n",
        "a = array.array(\"i\", [1,2,3,4,5,6]) #initializing array a>>\n",
        "b = array.array(\"f\", [1.5,2.5,3.5,4.5,5.5,6.5]) #initializing array b>>\n",
        "a.typecode #getting the typecode of a>>\n",
        "b.typecode\n",
        "b"
      ]
    },
    {
      "cell_type": "code",
      "source": [
        "#Example 1\n",
        "\n",
        "import array\n",
        "\n",
        "# Get all typecodes\n",
        "array.typecodes\n",
        "\n",
        "# Initializing array 'a' with integer elements\n",
        "a = array.array('i', [1, 2, 3, 4, 5, 6])\n",
        "\n",
        "print(a.typecode)\n",
        "\n",
        "# Initializing array 'b' with floating-point elements\n",
        "b = array.array('f', [1.5, 2.5, 3.5, 4.5, 5.5, 6.5])\n",
        "\n",
        "print(b.typecode)\n"
      ],
      "metadata": {
        "colab": {
          "base_uri": "https://localhost:8080/",
          "height": 140
        },
        "id": "Ja-Qc4lEwlR7",
        "outputId": "34ae32f9-e098-4e03-ca30-e864a52577ae"
      },
      "execution_count": null,
      "outputs": [
        {
          "output_type": "error",
          "ename": "SyntaxError",
          "evalue": "ignored",
          "traceback": [
            "\u001b[0;36m  File \u001b[0;32m\"<ipython-input-85-2196db54b778>\"\u001b[0;36m, line \u001b[0;32m1\u001b[0m\n\u001b[0;31m    Example 1\u001b[0m\n\u001b[0m            ^\u001b[0m\n\u001b[0;31mSyntaxError\u001b[0m\u001b[0;31m:\u001b[0m invalid syntax\n"
          ]
        }
      ]
    },
    {
      "cell_type": "code",
      "source": [
        "#Example 2\n",
        "\n",
        "import array\n",
        "a = array.array('i',[1,2,3,4,5])\n",
        "\n",
        "# Create a new array 'b' with float data type and copy elements from 'a'\n",
        "b = array.array('f', a)\n",
        "\n",
        "# Print the new array 'b' with the updated data type\n",
        "print(a)\n",
        "print(b)"
      ],
      "metadata": {
        "colab": {
          "base_uri": "https://localhost:8080/"
        },
        "id": "N4Bt7Mxa7rib",
        "outputId": "14c3ae39-0c68-4c82-bce3-04eb43a1a746"
      },
      "execution_count": null,
      "outputs": [
        {
          "output_type": "stream",
          "name": "stdout",
          "text": [
            "array('i', [1, 2, 3, 4, 5])\n",
            "array('f', [1.0, 2.0, 3.0, 4.0, 5.0])\n"
          ]
        }
      ]
    },
    {
      "cell_type": "code",
      "source": [
        "from array import array\n",
        "\n",
        "a = array('i', [4, 5, 6, 7])  # Initializing an array\n",
        "\n",
        "a.insert(1, 2)  # Inserting element 2 at index 1\n",
        "\n",
        "print(a)  # Printing the updated array: array('i', [4, 2, 5, 6, 7])\n",
        "\n",
        "a.insert(-1, 0)  # Inserting element 0 at index -1\n",
        "\n",
        "print(a)  # Printing the updated array: array('i', [4, 2, 5, 6, 0, 7])\n",
        "\n",
        "\n",
        "print(a)\n"
      ],
      "metadata": {
        "colab": {
          "base_uri": "https://localhost:8080/"
        },
        "id": "iVK3yHT-vS6J",
        "outputId": "38f26880-0d24-4b5c-8bd4-f8e3e2b027cd"
      },
      "execution_count": null,
      "outputs": [
        {
          "output_type": "stream",
          "name": "stdout",
          "text": [
            "array('i', [4, 2, 5, 6, 7])\n",
            "array('i', [4, 2, 5, 6, 0, 7])\n",
            "array('i', [4, 2, 5, 6, 0, 7])\n"
          ]
        }
      ]
    },
    {
      "cell_type": "code",
      "source": [
        "#Example 3\n",
        "class Node:\n",
        "    def __init__(self, data):\n",
        "        self.data = data\n",
        "        self.next = None\n",
        "\n",
        "class LinkedList:\n",
        "    def __init__(self):\n",
        "        self.head = None"
      ],
      "metadata": {
        "id": "0IU_wvoVHr46"
      },
      "execution_count": null,
      "outputs": []
    },
    {
      "cell_type": "markdown",
      "source": [
        "Single Linkedlist\n"
      ],
      "metadata": {
        "id": "MaPdybIjH0Ex"
      }
    },
    {
      "cell_type": "code",
      "source": [
        "class Node:\n",
        "    def __init__(self, data):\n",
        "        self.data = data\n",
        "        self.next = None\n",
        "\n",
        "class LinkedList:\n",
        "    def __init__(self):\n",
        "        self.head = None\n",
        "\n",
        "    def printlist(self):\n",
        "        temp = self.head\n",
        "        while temp:\n",
        "            print(temp.data)\n",
        "            temp = temp.next\n",
        "\n",
        "if __name__ == '__main__':\n",
        "    llist = LinkedList()\n",
        "    llist.head = Node(1)\n",
        "    second = Node(2)\n",
        "    third = Node(3)\n",
        "\n",
        "    llist.head.next = second\n",
        "    second.next = third\n",
        "\n",
        "    llist.printlist()\n"
      ],
      "metadata": {
        "colab": {
          "base_uri": "https://localhost:8080/"
        },
        "id": "EFWVe8STwwYM",
        "outputId": "791a8164-eb81-4be1-c2ef-6ee4d6daea7d"
      },
      "execution_count": null,
      "outputs": [
        {
          "output_type": "stream",
          "name": "stdout",
          "text": [
            "1\n",
            "2\n",
            "3\n"
          ]
        }
      ]
    },
    {
      "cell_type": "markdown",
      "source": [
        "Double Linked list"
      ],
      "metadata": {
        "id": "cK18YlavH5CI"
      }
    },
    {
      "cell_type": "code",
      "source": [
        "class Node: #Create Node\n",
        "    def __init__(self, data):\n",
        "        self.data = data\n",
        "        self.next = None\n",
        "        self.prev = None\n",
        "\n",
        "class LinkedList:\n",
        "    def __init__(self):\n",
        "        self.head = None\n",
        "\n",
        "    def printlist(self):\n",
        "        forward_temp = self.head  #Create twp temp variables for next and prev transversal\n",
        "        backward_temp = None\n",
        "        found_3 = False  #If it is already at third node\n",
        "        # Forward traversal\n",
        "        while forward_temp:\n",
        "            if forward_temp.data == 3 and not found_3:   #Check if it has gone through the first next three nodes\n",
        "                found_3 = True\n",
        "            elif found_3:\n",
        "                print(forward_temp.data) #Print third.next node\n",
        "            else:\n",
        "                print(forward_temp.data) #Print first, second, third, .next nodes.\n",
        "            backward_temp = forward_temp #Equal it to each other so that the tail node is equal to the last transversed node.next\n",
        "            forward_temp = forward_temp.next\n",
        "\n",
        "        # Backward traversal\n",
        "        while backward_temp: #Print prev data\n",
        "            print(backward_temp.data)\n",
        "            backward_temp = backward_temp.prev\n",
        "\n",
        "if __name__ == '__main__':\n",
        "    llist = LinkedList()\n",
        "    llist.head = Node(1)\n",
        "    second = Node(2)\n",
        "    third = Node(3)\n",
        "#Linking the nodes with .next and .prev\n",
        "    llist.head.next = second\n",
        "    second.prev = llist.head\n",
        "    second.next = third\n",
        "    third.prev = second\n",
        "\n",
        "    llist.printlist()\n"
      ],
      "metadata": {
        "colab": {
          "base_uri": "https://localhost:8080/"
        },
        "id": "xLH1nNfn1G1L",
        "outputId": "5da091ca-d790-40d5-deae-71c5fa4a8ba7"
      },
      "execution_count": null,
      "outputs": [
        {
          "output_type": "stream",
          "name": "stdout",
          "text": [
            "1\n",
            "2\n",
            "3\n",
            "2\n",
            "1\n"
          ]
        }
      ]
    },
    {
      "cell_type": "code",
      "source": [],
      "metadata": {
        "id": "BfHN_GVV_u87"
      },
      "execution_count": null,
      "outputs": []
    }
  ]
}