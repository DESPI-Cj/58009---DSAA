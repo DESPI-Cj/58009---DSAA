{
  "nbformat": 4,
  "nbformat_minor": 0,
  "metadata": {
    "colab": {
      "provenance": [],
      "authorship_tag": "ABX9TyMGSGZXoCMr5S6XuBM6okXa",
      "include_colab_link": true
    },
    "kernelspec": {
      "name": "python3",
      "display_name": "Python 3"
    },
    "language_info": {
      "name": "python"
    }
  },
  "cells": [
    {
      "cell_type": "markdown",
      "metadata": {
        "id": "view-in-github",
        "colab_type": "text"
      },
      "source": [
        "<a href=\"https://colab.research.google.com/github/DESPI-Cj/58009---DSAA/blob/main/Prelim_Exam.ipynb\" target=\"_parent\"><img src=\"https://colab.research.google.com/assets/colab-badge.svg\" alt=\"Open In Colab\"/></a>"
      ]
    },
    {
      "cell_type": "markdown",
      "source": [
        "General Instruction:\n",
        "\n",
        "Open your Python (Pycharm or Colab) or Dev C++ to create the source code for adding the test scores 26, 49, 98, 87, 62, 75 (30 points)\n",
        "Create a program to sort the test scores in ascending order (20 points)\n",
        "Draw the appropriate flowchart and save it as a pdf (format: Prelim.pdf) that should be uploaded here. (20 points)\n",
        "Save your source code as Prelim Exam (Prelim Exam.ipynb/ Prelim Exam.py) in your GitHub\n",
        "Send your GitHub link here before submitting."
      ],
      "metadata": {
        "id": "qp-sTbHA5XTE"
      }
    },
    {
      "cell_type": "code",
      "execution_count": null,
      "metadata": {
        "id": "sa1n4bNf5WNQ"
      },
      "outputs": [],
      "source": []
    }
  ]
}