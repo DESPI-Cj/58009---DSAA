{
  "nbformat": 4,
  "nbformat_minor": 0,
  "metadata": {
    "colab": {
      "provenance": [],
      "authorship_tag": "ABX9TyOlL6TCNM/WtZ9XNmvqf9IW",
      "include_colab_link": true
    },
    "kernelspec": {
      "name": "python3",
      "display_name": "Python 3"
    },
    "language_info": {
      "name": "python"
    }
  },
  "cells": [
    {
      "cell_type": "markdown",
      "metadata": {
        "id": "view-in-github",
        "colab_type": "text"
      },
      "source": [
        "<a href=\"https://colab.research.google.com/github/DESPI-Cj/58009---DSAA/blob/main/Prelim_Exam.ipynb\" target=\"_parent\"><img src=\"https://colab.research.google.com/assets/colab-badge.svg\" alt=\"Open In Colab\"/></a>"
      ]
    },
    {
      "cell_type": "markdown",
      "source": [
        "General Instruction:\n",
        "\n",
        "Open your Python (Pycharm or Colab) or Dev C++ to create the source code for adding the test scores 26, 49, 98, 87, 62, 75 (30 points)\n",
        "Create a program to sort the test scores in ascending order (20 points)\n",
        "Draw the appropriate flowchart and save it as a pdf (format: Prelim.pdf) that should be uploaded here. (20 points)\n",
        "Save your source code as Prelim Exam (Prelim Exam.ipynb/ Prelim Exam.py) in your GitHub\n",
        "Send your GitHub link here before submitting."
      ],
      "metadata": {
        "id": "qp-sTbHA5XTE"
      }
    },
    {
      "cell_type": "code",
      "execution_count": 20,
      "metadata": {
        "colab": {
          "base_uri": "https://localhost:8080/"
        },
        "id": "sa1n4bNf5WNQ",
        "outputId": "e5bcb1e8-e2bb-46d5-d7ca-54571368d3cf"
      },
      "outputs": [
        {
          "output_type": "stream",
          "name": "stdout",
          "text": [
            "Unsorted:[26, 49, 98, 87, 62, 75]\n",
            "==================================\n",
            "Sorted Score:[26, 49, 62, 75, 87, 98]\n",
            "\n",
            "==================================\n",
            "Total scores: 397\n"
          ]
        }
      ],
      "source": [
        "\n",
        "test_scores = [26,49,98,87,62,75]\n",
        "\n",
        "print(\"Unsorted:\", end=\"\")\n",
        "print(test_scores)\n",
        "print(\"==================================\")\n",
        "added_scores = []\n",
        "\n",
        "#Sort the scores\n",
        "test_scores.sort()\n",
        "print(\"Sorted Score:\", end=\"\")\n",
        "print(test_scores)\n",
        "print()\n",
        "#adding of scores.\n",
        "total = 0\n",
        "for score in test_scores:\n",
        "  total += score\n",
        "\n",
        "print(\"==================================\")\n",
        "print(\"Total scores: \", end=\"\")\n",
        "print(total)"
      ]
    },
    {
      "cell_type": "code",
      "source": [],
      "metadata": {
        "id": "rBUtq0vS6zn_"
      },
      "execution_count": null,
      "outputs": []
    }
  ]
}