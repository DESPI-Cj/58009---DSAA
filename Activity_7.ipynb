{
  "nbformat": 4,
  "nbformat_minor": 0,
  "metadata": {
    "colab": {
      "provenance": [],
      "authorship_tag": "ABX9TyOueAW4gQD7sPk+aa6NfRJA",
      "include_colab_link": true
    },
    "kernelspec": {
      "name": "python3",
      "display_name": "Python 3"
    },
    "language_info": {
      "name": "python"
    }
  },
  "cells": [
    {
      "cell_type": "markdown",
      "metadata": {
        "id": "view-in-github",
        "colab_type": "text"
      },
      "source": [
        "<a href=\"https://colab.research.google.com/github/DESPI-Cj/58009---DSAA/blob/main/Activity_7.ipynb\" target=\"_parent\"><img src=\"https://colab.research.google.com/assets/colab-badge.svg\" alt=\"Open In Colab\"/></a>"
      ]
    },
    {
      "cell_type": "code",
      "execution_count": null,
      "metadata": {
        "colab": {
          "base_uri": "https://localhost:8080/"
        },
        "id": "cVT6l7lzDnq0",
        "outputId": "840948b3-7c13-48dc-df39-cbc4fd0921c2"
      },
      "outputs": [
        {
          "output_type": "stream",
          "name": "stdout",
          "text": [
            "[{'a', 'b'}, {'c', 'a'}, {'d', 'b'}, {'d', 'c'}, {'d', 'e'}]\n"
          ]
        }
      ],
      "source": [
        "class Graph:\n",
        "    def __init__(self, gdict=None):\n",
        "        if gdict is None:\n",
        "            gdict = {}\n",
        "        self.gdict = gdict\n",
        "\n",
        "    def edges(self):\n",
        "        return self.find_edges()\n",
        "\n",
        "    def find_edges(self):\n",
        "        edge_list = []\n",
        "        for vertex in self.gdict:\n",
        "            for neighbor in self.gdict[vertex]:\n",
        "                if {neighbor, vertex} not in edge_list:\n",
        "                    edge_list.append({vertex, neighbor})\n",
        "        return edge_list\n",
        "\n",
        "# Create the dictionary with graph elements\n",
        "graph_elements = {\n",
        "    \"a\": [\"b\", \"c\"],\n",
        "    \"b\": [\"a\", \"d\"],\n",
        "    \"c\": [\"a\", \"d\"],\n",
        "    \"d\": [\"e\"],\n",
        "    \"e\": [\"d\"]\n",
        "}\n",
        "\n",
        "g = Graph(graph_elements)\n",
        "print(g.edges())\n"
      ]
    },
    {
      "cell_type": "code",
      "source": [
        "class Graph:\n",
        "    def __init__(self, gdict=None):\n",
        "        if gdict is None:\n",
        "            gdict = {}\n",
        "        self.gdict = gdict\n",
        "\n",
        "    def getVertices(self):\n",
        "        return list(self.gdict.keys())\n",
        "\n",
        "# Create the dictionary with graph elements\n",
        "graph_elements = {\n",
        "    \"a\": [\"b\", \"c\"],\n",
        "    \"b\": [\"a\", \"d\"],\n",
        "    \"c\": [\"a\", \"d\"],\n",
        "    \"d\": [\"e\"],\n",
        "    \"e\": [\"d\"]\n",
        "}\n",
        "\n",
        "g = Graph(graph_elements)\n",
        "print(g.getVertices())\n"
      ],
      "metadata": {
        "colab": {
          "base_uri": "https://localhost:8080/"
        },
        "id": "ee6Q24amDoge",
        "outputId": "40235ff4-f403-4331-ed45-0863248d1386"
      },
      "execution_count": null,
      "outputs": [
        {
          "output_type": "stream",
          "name": "stdout",
          "text": [
            "['a', 'b', 'c', 'd', 'e']\n"
          ]
        }
      ]
    },
    {
      "cell_type": "code",
      "source": [
        "class Graph:\n",
        "    def __init__(self, gdict=None):\n",
        "        if gdict is None:\n",
        "            gdict = {}\n",
        "        self.gdict = gdict\n",
        "\n",
        "    def edges(self):\n",
        "        return self.find_edges()\n",
        "\n",
        "    def find_edges(self):\n",
        "        edge_list = []\n",
        "        for vertex in self.gdict:\n",
        "            for neighbor in self.gdict[vertex]:\n",
        "                if {neighbor, vertex} not in edge_list:\n",
        "                    edge_list.append({vertex, neighbor})\n",
        "        return edge_list\n",
        "\n",
        "# Create the dictionary with graph elements\n",
        "graph_elements = {\n",
        "    1: [2,3,5,6],\n",
        "    2: [1,3,4,5,6],\n",
        "    3: [1,2,4,5],\n",
        "    4: [2,3],\n",
        "    5: [1,2,3],\n",
        "    6: [1,2]\n",
        "}\n",
        "\n",
        "g = Graph(graph_elements)\n",
        "print(g.edges())\n"
      ],
      "metadata": {
        "colab": {
          "base_uri": "https://localhost:8080/"
        },
        "id": "Ys3gTDNNM_IC",
        "outputId": "494e57c4-5904-4e3a-b000-e1e0019dfa72"
      },
      "execution_count": 10,
      "outputs": [
        {
          "output_type": "stream",
          "name": "stdout",
          "text": [
            "[{1, 2}, {1, 3}, {1, 5}, {1, 6}, {2, 3}, {2, 4}, {2, 5}, {2, 6}, {3, 4}, {3, 5}]\n"
          ]
        }
      ]
    },
    {
      "cell_type": "code",
      "source": [],
      "metadata": {
        "id": "KtdXlSf_M_CY"
      },
      "execution_count": null,
      "outputs": []
    }
  ]
}