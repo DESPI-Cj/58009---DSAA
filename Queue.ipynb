{
  "nbformat": 4,
  "nbformat_minor": 0,
  "metadata": {
    "colab": {
      "provenance": [],
      "authorship_tag": "ABX9TyOXSwl8rtSh20H3sV5Q9Qt0",
      "include_colab_link": true
    },
    "kernelspec": {
      "name": "python3",
      "display_name": "Python 3"
    },
    "language_info": {
      "name": "python"
    }
  },
  "cells": [
    {
      "cell_type": "markdown",
      "metadata": {
        "id": "view-in-github",
        "colab_type": "text"
      },
      "source": [
        "<a href=\"https://colab.research.google.com/github/DESPI-Cj/58009---DSAA/blob/main/Queue.ipynb\" target=\"_parent\"><img src=\"https://colab.research.google.com/assets/colab-badge.svg\" alt=\"Open In Colab\"/></a>"
      ]
    },
    {
      "cell_type": "code",
      "execution_count": 11,
      "metadata": {
        "colab": {
          "base_uri": "https://localhost:8080/"
        },
        "id": "E5lRAhxjjOme",
        "outputId": "63a46858-dcc4-4145-a9c3-8c4619cc5ed7"
      },
      "outputs": [
        {
          "output_type": "stream",
          "name": "stdout",
          "text": [
            "['A', 'B', 'C']\n",
            "A\n",
            "B\n",
            "C\n",
            "[]\n"
          ]
        }
      ],
      "source": [
        "queue = []\n",
        "#enqueue items in to queue\n",
        "queue.append('A')\n",
        "queue.append('B')\n",
        "queue.append('C')\n",
        "print(queue)\n",
        "#dequeueitems in to queue\n",
        "print(queue.pop(0))\n",
        "print(queue.pop(0))\n",
        "print(queue.pop(0))\n",
        "print(queue)"
      ]
    },
    {
      "cell_type": "code",
      "source": [
        "#Cat Queue System\n",
        "class CatQueue:\n",
        "    def __init__(self):\n",
        "        self.queue = []\n",
        "\n",
        "    def add_cat(self, cat_name):\n",
        "        self.queue.append(cat_name)\n",
        "        print(f'{cat_name} has joined the queue.')\n",
        "\n",
        "    def serve_cat(self):\n",
        "        if self.queue:\n",
        "            cat_to_serve = self.queue.pop(0)\n",
        "            print(f'{cat_to_serve} is now drinking.')\n",
        "        else:\n",
        "            print('No cats in the queue.')\n",
        "\n",
        "    def display_queue(self):\n",
        "        print('Current cat queue:', self.queue)\n",
        "\n",
        "\n",
        "# Example usage\n",
        "cat_queue = CatQueue()\n",
        "\n",
        "# Add cats to the queue\n",
        "cat_queue.add_cat('Despi')\n",
        "cat_queue.add_cat('Valero')\n",
        "cat_queue.add_cat('Lozano')\n",
        "cat_queue.add_cat('Mendoza')\n",
        "cat_queue.add_cat('Ferreras')\n",
        "cat_queue.add_cat('Guzman')\n",
        "\n",
        "# Display the queue\n",
        "cat_queue.display_queue()\n",
        "\n",
        "# Serve cats\n",
        "cat_queue.serve_cat()\n",
        "cat_queue.serve_cat()\n",
        "cat_queue.serve_cat()\n",
        "cat_queue.serve_cat()\n",
        "cat_queue.serve_cat()\n",
        "cat_queue.serve_cat()\n",
        "cat_queue.serve_cat()"
      ],
      "metadata": {
        "colab": {
          "base_uri": "https://localhost:8080/"
        },
        "id": "Fi6LA3jmlou9",
        "outputId": "93cadc34-afde-4fbf-c8cc-64584019a442"
      },
      "execution_count": 35,
      "outputs": [
        {
          "output_type": "stream",
          "name": "stdout",
          "text": [
            "Despi has joined the queue.\n",
            "Valero has joined the queue.\n",
            "Lozano has joined the queue.\n",
            "Mendoza has joined the queue.\n",
            "Ferreras has joined the queue.\n",
            "Guzman has joined the queue.\n",
            "Current cat queue: ['Despi', 'Valero', 'Lozano', 'Mendoza', 'Ferreras', 'Guzman']\n",
            "Despi is now drinking.\n",
            "Valero is now drinking.\n",
            "Lozano is now drinking.\n",
            "Mendoza is now drinking.\n",
            "Ferreras is now drinking.\n",
            "Guzman is now drinking.\n",
            "No cats in the queue.\n"
          ]
        }
      ]
    }
  ]
}