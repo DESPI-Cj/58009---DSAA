{
  "nbformat": 4,
  "nbformat_minor": 0,
  "metadata": {
    "colab": {
      "provenance": [],
      "authorship_tag": "ABX9TyORva0PNMnhO5eN7U1N3xi6",
      "include_colab_link": true
    },
    "kernelspec": {
      "name": "python3",
      "display_name": "Python 3"
    },
    "language_info": {
      "name": "python"
    }
  },
  "cells": [
    {
      "cell_type": "markdown",
      "metadata": {
        "id": "view-in-github",
        "colab_type": "text"
      },
      "source": [
        "<a href=\"https://colab.research.google.com/github/DESPI-Cj/58009---DSAA/blob/main/Special_Activity_3.ipynb\" target=\"_parent\"><img src=\"https://colab.research.google.com/assets/colab-badge.svg\" alt=\"Open In Colab\"/></a>"
      ]
    },
    {
      "cell_type": "code",
      "execution_count": 7,
      "metadata": {
        "colab": {
          "base_uri": "https://localhost:8080/"
        },
        "id": "olHrMeY9At5A",
        "outputId": "5e9277ce-60eb-426d-ca86-6376a5a28549"
      },
      "outputs": [
        {
          "name": "stdout",
          "output_type": "stream",
          "text": [
            "Please type your choice\n",
            "Push <value>\n",
            "Pop\n",
            "Quit\n",
            "Length\n",
            "What operation would you like to perform ? push 1\n",
            "Please type your choice\n",
            "Push <value>\n",
            "Pop\n",
            "Quit\n",
            "Length\n",
            "What operation would you like to perform ? push 22\n",
            "Please type your choice\n",
            "Push <value>\n",
            "Pop\n",
            "Quit\n",
            "Length\n",
            "What operation would you like to perform ? push 34\n",
            "Please type your choice\n",
            "Push <value>\n",
            "Pop\n",
            "Quit\n",
            "Length\n",
            "What operation would you like to perform ? pop\n",
            "The deleted value is :  34\n",
            "Please type your choice\n",
            "Push <value>\n",
            "Pop\n",
            "Quit\n",
            "Length\n",
            "What operation would you like to perform ? legth\n",
            "Please type your choice\n",
            "Push <value>\n",
            "Pop\n",
            "Quit\n",
            "Length\n",
            "What operation would you like to perform ? quit\n"
          ]
        }
      ],
      "source": [
        "class Stack_struct:\n",
        "\n",
        "   def __init__(self):\n",
        "\n",
        "       self.items = []\n",
        "\n",
        "   def check_empty(self):\n",
        "\n",
        "       return self.items == []\n",
        "\n",
        "   def add_elements(self, my_data):\n",
        "\n",
        "       self.items.append(my_data)\n",
        "\n",
        "   def delete_elements(self):\n",
        "\n",
        "        return self.items.pop()\n",
        "\n",
        "   def length(self):\n",
        "        return len(self.items)\n",
        "\n",
        "my_instance = Stack_struct()\n",
        "\n",
        "while True:\n",
        "\n",
        "   print('Please type your choice')\n",
        "\n",
        "   print('Push <value>')\n",
        "\n",
        "   print('Pop')\n",
        "\n",
        "   print('Quit')\n",
        "\n",
        "   print('Length')\n",
        "\n",
        "   my_input = input('What operation would you like to perform ? ').split()\n",
        "\n",
        "   my_op = my_input[0].strip().lower()\n",
        "\n",
        "   if my_op == 'push':\n",
        "\n",
        "       my_instance.add_elements(int(my_input[1]))\n",
        "\n",
        "   elif my_op == 'pop':\n",
        "\n",
        "       if my_instance.check_empty():\n",
        "\n",
        "           print('The stack is empty')\n",
        "\n",
        "       else:\n",
        "\n",
        "           print('The deleted value is : ', my_instance.delete_elements())\n",
        "\n",
        "   elif my_op == 'quit':\n",
        "       break\n",
        "   elif my_op == 'length':\n",
        "    stack_length = my_instance.length()\n",
        "    print(\"The length of the stack is: \", stack_length)"
      ]
    }
  ]
}