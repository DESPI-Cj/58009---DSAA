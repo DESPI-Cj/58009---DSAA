{
  "nbformat": 4,
  "nbformat_minor": 0,
  "metadata": {
    "colab": {
      "provenance": [],
      "authorship_tag": "ABX9TyMwxvoGW/T2g1PJo6kozHdO",
      "include_colab_link": true
    },
    "kernelspec": {
      "name": "python3",
      "display_name": "Python 3"
    },
    "language_info": {
      "name": "python"
    }
  },
  "cells": [
    {
      "cell_type": "markdown",
      "metadata": {
        "id": "view-in-github",
        "colab_type": "text"
      },
      "source": [
        "<a href=\"https://colab.research.google.com/github/DESPI-Cj/58009---DSAA/blob/main/long_quiz_2.ipynb\" target=\"_parent\"><img src=\"https://colab.research.google.com/assets/colab-badge.svg\" alt=\"Open In Colab\"/></a>"
      ]
    },
    {
      "cell_type": "code",
      "execution_count": 20,
      "metadata": {
        "colab": {
          "base_uri": "https://localhost:8080/"
        },
        "id": "d7gXJioUrV9b",
        "outputId": "1dd7cf44-01dd-4316-cb94-948db9e52741"
      },
      "outputs": [
        {
          "output_type": "stream",
          "name": "stdout",
          "text": [
            "The Edges of the graph are: [{'E', 'I'}, {'K', 'E'}, {'J', 'E'}, {'E', 'M'}, {'J', 'F'}, {'F', 'I'}, {'K', 'F'}, {'F', 'P'}, {'H', 'I'}, {'J', 'H'}, {'H', 'K'}] \n",
            "\n",
            "The Vertices of the graph are: ['E', 'F', 'H', 'I', 'J', 'M', 'P', 'K']\n"
          ]
        }
      ],
      "source": [
        "class Graph:\n",
        "    def __init__(self, adict=None):\n",
        "        if adict is None:\n",
        "            adict = {}\n",
        "        self.adict = adict\n",
        "\n",
        "    def edges(self):\n",
        "        edge = []\n",
        "        for nodes in self.adict:\n",
        "            for adjacent in self.adict[nodes]:\n",
        "                if {adjacent, nodes} not in edge:\n",
        "                    edge.append({nodes, adjacent})\n",
        "        return edge\n",
        "    def vertices(self):\n",
        "        return list(self.adict.keys())\n",
        "\n",
        "elements = {\n",
        "    'E': ['I','K','J','M'],\n",
        "    'F': ['J','I','K','P'],\n",
        "    'H': ['I','J','K'],\n",
        "    'I': ['H','E','F'],\n",
        "    'J': ['H','F','E'],\n",
        "    'M': ['E'],\n",
        "    'P': ['F'],\n",
        "    'K': ['E','F','H']\n",
        "}\n",
        "\n",
        "g = Graph(elements)\n",
        "print(\"The Edges of the graph are:\", g.edges(),'\\n')\n",
        "print(\"The Vertices of the graph are:\", g.vertices())"
      ]
    },
    {
      "cell_type": "code",
      "source": [],
      "metadata": {
        "id": "mCXR-33R6seg"
      },
      "execution_count": null,
      "outputs": []
    }
  ]
}