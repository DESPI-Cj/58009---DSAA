{
  "nbformat": 4,
  "nbformat_minor": 0,
  "metadata": {
    "colab": {
      "provenance": [],
      "authorship_tag": "ABX9TyNkzUp6AWIOiEX71LVLTd8i",
      "include_colab_link": true
    },
    "kernelspec": {
      "name": "python3",
      "display_name": "Python 3"
    },
    "language_info": {
      "name": "python"
    }
  },
  "cells": [
    {
      "cell_type": "markdown",
      "metadata": {
        "id": "view-in-github",
        "colab_type": "text"
      },
      "source": [
        "<a href=\"https://colab.research.google.com/github/DESPI-Cj/58009---DSAA/blob/main/Activity_1.ipynb\" target=\"_parent\"><img src=\"https://colab.research.google.com/assets/colab-badge.svg\" alt=\"Open In Colab\"/></a>"
      ]
    },
    {
      "cell_type": "markdown",
      "source": [
        "Write a Python program to create an array of 10 integers and display the array items. Access individual elements through indexes and compute for the sum."
      ],
      "metadata": {
        "id": "oFHBzrqOlU2Y"
      }
    },
    {
      "cell_type": "code",
      "source": [
        "array = []\n",
        "sum = 0\n",
        "for x in range(0,10):\n",
        "  array.append(x)\n",
        "for x in array:\n",
        "  sum += x\n",
        "print(array)\n",
        "print(\"Sum is\",sum)"
      ],
      "metadata": {
        "id": "7HCdnEuglWI3"
      },
      "execution_count": null,
      "outputs": []
    },
    {
      "cell_type": "markdown",
      "source": [
        "Write a Python program to append a new item to the end of the array. Original array: numbers = [1, 2, 3, 4, 5, 6, 7, 8, 9, 10]\n"
      ],
      "metadata": {
        "id": "tF5dJphwlX8H"
      }
    },
    {
      "cell_type": "code",
      "source": [
        "array = []\n",
        "for x in range(1, 11):\n",
        "    array.append(x)\n",
        "\n",
        "print(\"Initial array:\", array)\n",
        "new = int(input(\"Input new item: \"))\n",
        "array.append(new)\n",
        "print(array)"
      ],
      "metadata": {
        "colab": {
          "base_uri": "https://localhost:8080/"
        },
        "id": "-BNiUYaalcTf",
        "outputId": "12daecf2-8b49-4efd-c531-fbe02d16e82d"
      },
      "execution_count": 3,
      "outputs": [
        {
          "output_type": "stream",
          "name": "stdout",
          "text": [
            "Initial array: [1, 2, 3, 4, 5, 6, 7, 8, 9, 10]\n",
            "Input new item: 65\n",
            "[1, 2, 3, 4, 5, 6, 7, 8, 9, 10, 65]\n"
          ]
        }
      ]
    },
    {
      "cell_type": "markdown",
      "source": [
        "Write a Python program to insert a new item before the second element in an existing array. Original array: numbers = [1, 2, 3, 4, 5, 6, 7, 8, 9, 10]\n"
      ],
      "metadata": {
        "id": "3aKG3DROllRn"
      }
    },
    {
      "cell_type": "code",
      "source": [
        "array = []\n",
        "for x in range(1, 11):\n",
        "    array.append(x)\n",
        "\n",
        "print(\"Initial array:\", array)\n",
        "new = int(input(\"Input new item: \"))\n",
        "array.insert(1,new)\n",
        "print(array)"
      ],
      "metadata": {
        "colab": {
          "base_uri": "https://localhost:8080/"
        },
        "id": "2MnrcHkhl0eC",
        "outputId": "663778bb-20ad-4e52-aa62-8846b5c395d5"
      },
      "execution_count": 6,
      "outputs": [
        {
          "output_type": "stream",
          "name": "stdout",
          "text": [
            "Initial array: [1, 2, 3, 4, 5, 6, 7, 8, 9, 10]\n",
            "Input new item: 15\n",
            "[1, 15, 2, 3, 4, 5, 6, 7, 8, 9, 10]\n"
          ]
        }
      ]
    },
    {
      "cell_type": "markdown",
      "source": [
        "Write a Python program to reverse the order of the items in the array.Original array: numbers = [5, 4, 3, 2, 1]\n"
      ],
      "metadata": {
        "id": "MHH2xe0lmSlS"
      }
    },
    {
      "cell_type": "code",
      "source": [
        "array = [5,4,3,2,1]\n",
        "print(\"Initial array:\", array)\n",
        "array.reverse()\n",
        "print(array)"
      ],
      "metadata": {
        "colab": {
          "base_uri": "https://localhost:8080/"
        },
        "id": "MIS8AR7VmV-y",
        "outputId": "3396d6ad-41a8-4926-edd4-209f05411459"
      },
      "execution_count": 11,
      "outputs": [
        {
          "output_type": "stream",
          "name": "stdout",
          "text": [
            "Initial array: [5, 4, 3, 2, 1]\n",
            "[1, 2, 3, 4, 5]\n"
          ]
        }
      ]
    },
    {
      "cell_type": "markdown",
      "source": [
        "Write a Python program to get the length of the array. Original array: numbers = [5, 4, 3, 2, 1]\n"
      ],
      "metadata": {
        "id": "zyVbT0-KmwYV"
      }
    },
    {
      "cell_type": "code",
      "source": [
        "array = [5,4,3,2,1]\n",
        "x = len(array)\n",
        "print(\"The length of the array is \",x)"
      ],
      "metadata": {
        "colab": {
          "base_uri": "https://localhost:8080/"
        },
        "id": "PNIkW0fsmyqt",
        "outputId": "406dfada-151d-4d8a-ec21-fb969264ee44"
      },
      "execution_count": 13,
      "outputs": [
        {
          "output_type": "stream",
          "name": "stdout",
          "text": [
            "The length of the array is  5\n"
          ]
        }
      ]
    }
  ]
}