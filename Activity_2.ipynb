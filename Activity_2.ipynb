{
  "nbformat": 4,
  "nbformat_minor": 0,
  "metadata": {
    "colab": {
      "provenance": [],
      "authorship_tag": "ABX9TyN1ZOPbxOHtGPVv7mMHCwnp",
      "include_colab_link": true
    },
    "kernelspec": {
      "name": "python3",
      "display_name": "Python 3"
    },
    "language_info": {
      "name": "python"
    }
  },
  "cells": [
    {
      "cell_type": "markdown",
      "metadata": {
        "id": "view-in-github",
        "colab_type": "text"
      },
      "source": [
        "<a href=\"https://colab.research.google.com/github/DESPI-Cj/58009---DSAA/blob/main/Activity_2.ipynb\" target=\"_parent\"><img src=\"https://colab.research.google.com/assets/colab-badge.svg\" alt=\"Open In Colab\"/></a>"
      ]
    },
    {
      "cell_type": "code",
      "execution_count": 24,
      "metadata": {
        "id": "ocolZc4LYHrH",
        "colab": {
          "base_uri": "https://localhost:8080/"
        },
        "outputId": "51cb397c-643d-4669-d2a4-7623e3a6669e"
      },
      "outputs": [
        {
          "output_type": "stream",
          "name": "stdout",
          "text": [
            "Prime Numbers in the Linked List:\n",
            "2\n",
            "3\n",
            "5\n",
            "7\n",
            "11\n",
            "13\n",
            "17\n",
            "19\n",
            "Head of the Linked List: 2\n",
            "Tail of the Linked List: 19\n"
          ]
        }
      ],
      "source": [
        "class Node:\n",
        "    def __init__(self, data):\n",
        "        self.data = data\n",
        "        self.next = None\n",
        "        self.prev = None\n",
        "\n",
        "class LinkedList:\n",
        "    def __init__(self):\n",
        "        self.head = None\n",
        "        self.tail = None\n",
        "\n",
        "    def create_linked_list(self, values):\n",
        "        if not values:\n",
        "            return\n",
        "\n",
        "        # Create the first node\n",
        "        self.head = Node(values[0])\n",
        "        current = self.head\n",
        "        self.tail = current\n",
        "\n",
        "        # Create and link the remaining nodes\n",
        "        for value in values[1:]:\n",
        "            new_node = Node(value)\n",
        "            current.next = new_node\n",
        "            new_node.prev = current\n",
        "            current = new_node\n",
        "            self.tail = current\n",
        "\n",
        "    def printlist(self):\n",
        "        temp = self.head\n",
        "        while temp:\n",
        "            print(temp.data)\n",
        "            temp = temp.next\n",
        "\n",
        "if __name__ == '__main__':\n",
        "    values = []\n",
        "\n",
        "    for number in range(2, 21):\n",
        "        is_prime = True\n",
        "        for i in range(2, number):\n",
        "            if number % i == 0:\n",
        "                is_prime = False\n",
        "                break\n",
        "        if is_prime:\n",
        "            values.append(number)\n",
        "\n",
        "    linkedlist = LinkedList()\n",
        "    linkedlist.create_linked_list(values)\n",
        "\n",
        "    print(\"Prime Numbers in the Linked List:\")\n",
        "    linkedlist.printlist()\n",
        "\n",
        "    print(\"Head of the Linked List:\", linkedlist.head.data)\n",
        "    print(\"Tail of the Linked List:\", linkedlist.tail.data)\n"
      ]
    },
    {
      "cell_type": "code",
      "source": [
        "#Prime checker\n",
        "\n",
        "for number in range(2, 21):\n",
        "    is_prime = True\n",
        "    for i in range(2, number):\n",
        "        if number % i == 0:\n",
        "            is_prime = False\n",
        "            break\n",
        "    if is_prime:\n",
        "        print(number)\n"
      ],
      "metadata": {
        "colab": {
          "base_uri": "https://localhost:8080/"
        },
        "id": "iY0PcS9ZYj9v",
        "outputId": "d58a42e5-985c-4e60-84a5-e158ac36c850"
      },
      "execution_count": 22,
      "outputs": [
        {
          "output_type": "stream",
          "name": "stdout",
          "text": [
            "2\n",
            "3\n",
            "5\n",
            "7\n",
            "11\n",
            "13\n",
            "17\n",
            "19\n"
          ]
        }
      ]
    },
    {
      "cell_type": "code",
      "source": [
        "class Node:\n",
        "    def __init__(self, data):\n",
        "        self.data = data\n",
        "        self.next = None\n",
        "\n",
        "class LinkedList:\n",
        "    def __init__(self):\n",
        "        self.head = None\n",
        "        self.tail = None\n",
        "\n",
        "    def append(self, data):\n",
        "        new_node = Node(data)\n",
        "        if not self.head:\n",
        "            self.head = new_node\n",
        "            self.tail = new_node\n",
        "        else:\n",
        "            self.tail.next = new_node\n",
        "            self.tail = new_node\n",
        "\n",
        "    def is_prime(self, num):\n",
        "        if num <= 1:\n",
        "            return False\n",
        "        if num <= 3:\n",
        "            return True\n",
        "        if num % 2 == 0 or num % 3 == 0:\n",
        "            return False\n",
        "        i = 5\n",
        "        while i * i <= num:\n",
        "            if num % i == 0 or num % (i + 2) == 0:\n",
        "                return False\n",
        "            i += 6\n",
        "        return True\n",
        "\n",
        "    def find_primes_less_than_20(self):\n",
        "        for number in range(2, 20):\n",
        "            if self.is_prime(number):\n",
        "                self.append(number)\n",
        "\n",
        "    def display(self):\n",
        "        current = self.head\n",
        "        while current:\n",
        "            print(current.data, end=\" \")\n",
        "            current = current.next\n",
        "        print()\n",
        "\n",
        "if __name__ == '__main__':\n",
        "    prime_list = LinkedList()\n",
        "    prime_list.find_primes_less_than_20()\n",
        "\n",
        "    print(\"Prime Numbers in the Linked List:\")\n",
        "    prime_list.display()\n",
        "\n",
        "    print(\"Head of the Linked List:\", prime_list.head.data)\n",
        "    print(\"Tail of the Linked List:\", prime_list.tail.data)\n"
      ],
      "metadata": {
        "colab": {
          "base_uri": "https://localhost:8080/"
        },
        "id": "-nqAolHGZph2",
        "outputId": "023ff733-81fd-4161-a9d4-b9a846c2f851"
      },
      "execution_count": 21,
      "outputs": [
        {
          "output_type": "stream",
          "name": "stdout",
          "text": [
            "Prime Numbers in the Linked List:\n",
            "2 3 5 7 11 13 17 19 \n",
            "Head of the Linked List: 2\n",
            "Tail of the Linked List: 19\n"
          ]
        }
      ]
    }
  ]
}