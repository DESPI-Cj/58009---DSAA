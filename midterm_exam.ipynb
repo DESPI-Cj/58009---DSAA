{
  "nbformat": 4,
  "nbformat_minor": 0,
  "metadata": {
    "colab": {
      "provenance": [],
      "authorship_tag": "ABX9TyPIcUPXQivVOREuHgVTcleP",
      "include_colab_link": true
    },
    "kernelspec": {
      "name": "python3",
      "display_name": "Python 3"
    },
    "language_info": {
      "name": "python"
    }
  },
  "cells": [
    {
      "cell_type": "markdown",
      "metadata": {
        "id": "view-in-github",
        "colab_type": "text"
      },
      "source": [
        "<a href=\"https://colab.research.google.com/github/DESPI-Cj/58009---DSAA/blob/main/midterm_exam.ipynb\" target=\"_parent\"><img src=\"https://colab.research.google.com/assets/colab-badge.svg\" alt=\"Open In Colab\"/></a>"
      ]
    },
    {
      "cell_type": "code",
      "source": [],
      "metadata": {
        "id": "Q1E0qKyfNSca"
      },
      "execution_count": null,
      "outputs": []
    },
    {
      "cell_type": "code",
      "source": [
        "class graph:\n",
        "  def __init__(self,gdict=None):\n",
        "    if gdict is None:\n",
        "      gdict = {}\n",
        "    self.gdict = gdict\n",
        "\n",
        "  def display(self):\n",
        "    print(\"Vertices are A, B, D, E, F, G ,I, J, K, L, M, N, O, and P\")\n",
        "\n",
        "  def edges(self):\n",
        "        return self.findedges()\n",
        "  def findedges(self):\n",
        "    edgename = []\n",
        "    for vrtx in self.gdict:\n",
        "      for nxtvrtx in self.gdict[vrtx]:\n",
        "        if {nxtvrtx, vrtx} not in edgename:\n",
        "          edgename.append({vrtx, nxtvrtx})\n",
        "    return edgename\n",
        "graph_elements = {\n",
        "      \"A\" : [\"B\"],\n",
        "      \"B\" : [\"A\",\"C\",\"E\",\"F\"],\n",
        "      \"C\" : [\"B\",\"D\",\"E\",\"F\",\"I\",\"M\"],\n",
        "      \"D\" : [\"C\",\"L\",\"K\"],\n",
        "      \"E\" : [\"B\",\"C\",\"N\"],\n",
        "      \"F\" : [\"B\",\"C\",\"I\",\"G\"],\n",
        "      \"G\" : [\"F\",\"I\",\"J\"],\n",
        "      \"I\" : [\"F\",\"G\",\"J\",\"C\",\"K\"],\n",
        "      \"J\" : [\"I\",\"G\",\"K\"],\n",
        "      \"K\" : [\"D\",\"I\",\"J\"],\n",
        "      \"L\" : [\"P\",\"M\",\"D\"],\n",
        "      \"M\" : [\"N\",\"O\",\"P\",\"C\",\"L\"],\n",
        "      \"N\" : [\"O\",\"E\",\"M\"],\n",
        "      \"O\" : [\"P\",\"M\",\"N\"],\n",
        "      \"P\" : [\"O\",\"M\",\"L\"],\n",
        "      }\n",
        "g = graph(graph_elements)\n",
        "print(\"The edges are:\")\n",
        "print(g.edges())\n",
        "print(g.display())"
      ],
      "metadata": {
        "colab": {
          "base_uri": "https://localhost:8080/"
        },
        "id": "fUhWrCC7OwGr",
        "outputId": "5c951abe-445b-4def-8555-29da671f4d2f"
      },
      "execution_count": 41,
      "outputs": [
        {
          "output_type": "stream",
          "name": "stdout",
          "text": [
            "The edges are:\n",
            "[{'B', 'A'}, {'B', 'C'}, {'B', 'E'}, {'B', 'F'}, {'D', 'C'}, {'E', 'C'}, {'C', 'F'}, {'I', 'C'}, {'M', 'C'}, {'D', 'L'}, {'D', 'K'}, {'E', 'N'}, {'I', 'F'}, {'G', 'F'}, {'G', 'I'}, {'G', 'J'}, {'I', 'J'}, {'I', 'K'}, {'K', 'J'}, {'L', 'P'}, {'L', 'M'}, {'M', 'N'}, {'M', 'O'}, {'M', 'P'}, {'N', 'O'}, {'P', 'O'}]\n",
            "Vertices are A, B, D, E, F, G ,I, J, K, L, M, N, O, and P\n",
            "None\n"
          ]
        }
      ]
    },
    {
      "cell_type": "code",
      "source": [
        "class graph:\n",
        "  def __init__(self,gdict=None):\n",
        "    if gdict is None:\n",
        "      gdict = {}\n",
        "    self.gdict = gdict\n",
        "\n",
        "  def display(self):\n",
        "    print(\"Vertices are A, B, D, E, F, G ,I, J, K, L, M, N, O, and P\")\n",
        "\n",
        "  def edges(self):\n",
        "        return self.findedges()\n",
        "  def findedges(self):\n",
        "    edgename = []\n",
        "    for vrtx in self.gdict:\n",
        "      for nxtvrtx in self.gdict[vrtx]:\n",
        "        if {nxtvrtx, vrtx} not in edgename:\n",
        "          edgename.append({vrtx, nxtvrtx})\n",
        "    return edgename\n",
        "graph_elements = {\n",
        "      \"A\" : [\"B\"],\n",
        "      \"B\" : [\"A\",\"C\",\"E\",\"F\"],\n",
        "      \"C\" : [\"B\",\"D\",\"E\",\"F\",\"I\",\"M\"],\n",
        "      \"D\" : [\"C\",\"L\",\"K\"],\n",
        "      \"E\" : [\"B\",\"C\",\"N\"],\n",
        "      \"F\" : [\"B\",\"C\",\"I\",\"G\"],\n",
        "      \"G\" : [\"F\",\"I\",\"J\"],\n",
        "      \"I\" : [\"F\",\"G\",\"J\",\"C\",\"K\"],\n",
        "      \"J\" : [\"I\",\"G\",\"K\"],\n",
        "      \"K\" : [\"D\",\"I\",\"J\"],\n",
        "      \"L\" : [\"P\",\"M\",\"D\"],\n",
        "      \"M\" : [\"N\",\"O\",\"P\",\"C\",\"L\"],\n",
        "      \"N\" : [\"O\",\"E\",\"M\"],\n",
        "      \"O\" : [\"P\",\"M\",\"N\"],\n",
        "      \"P\" : [\"O\",\"M\",\"L\"],\n",
        "      }\n",
        "g = graph(graph_elements)\n",
        "print(\"The edges are:\")\n",
        "print(g.edges())\n",
        "g.display()"
      ],
      "metadata": {
        "colab": {
          "base_uri": "https://localhost:8080/"
        },
        "id": "U4DlzlnLXDR3",
        "outputId": "f04a4b01-3aeb-4015-8cc5-10c2c114289b"
      },
      "execution_count": 44,
      "outputs": [
        {
          "output_type": "stream",
          "name": "stdout",
          "text": [
            "The edges are:\n",
            "[{'B', 'A'}, {'B', 'C'}, {'B', 'E'}, {'B', 'F'}, {'D', 'C'}, {'E', 'C'}, {'C', 'F'}, {'I', 'C'}, {'M', 'C'}, {'D', 'L'}, {'D', 'K'}, {'E', 'N'}, {'I', 'F'}, {'G', 'F'}, {'G', 'I'}, {'G', 'J'}, {'I', 'J'}, {'I', 'K'}, {'K', 'J'}, {'L', 'P'}, {'L', 'M'}, {'M', 'N'}, {'M', 'O'}, {'M', 'P'}, {'N', 'O'}, {'P', 'O'}]\n",
            "Vertices are A, B, D, E, F, G ,I, J, K, L, M, N, O, and P\n"
          ]
        }
      ]
    },
    {
      "cell_type": "code",
      "source": [],
      "metadata": {
        "id": "uD4Ev_qMXDqO"
      },
      "execution_count": null,
      "outputs": []
    }
  ]
}