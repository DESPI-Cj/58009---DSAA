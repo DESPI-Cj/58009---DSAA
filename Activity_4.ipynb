{
  "nbformat": 4,
  "nbformat_minor": 0,
  "metadata": {
    "colab": {
      "provenance": [],
      "authorship_tag": "ABX9TyNRP6NwKkx3Kwa4VWsueYSK",
      "include_colab_link": true
    },
    "kernelspec": {
      "name": "python3",
      "display_name": "Python 3"
    },
    "language_info": {
      "name": "python"
    }
  },
  "cells": [
    {
      "cell_type": "markdown",
      "metadata": {
        "id": "view-in-github",
        "colab_type": "text"
      },
      "source": [
        "<a href=\"https://colab.research.google.com/github/DESPI-Cj/58009---DSAA/blob/main/Activity_4.ipynb\" target=\"_parent\"><img src=\"https://colab.research.google.com/assets/colab-badge.svg\" alt=\"Open In Colab\"/></a>"
      ]
    },
    {
      "cell_type": "code",
      "execution_count": 1,
      "metadata": {
        "colab": {
          "base_uri": "https://localhost:8080/"
        },
        "id": "chNehgFQ1jvl",
        "outputId": "e7870cb9-ce7d-4e6c-e8fd-0022aae121a7"
      },
      "outputs": [
        {
          "output_type": "stream",
          "name": "stdout",
          "text": [
            "Despi has joined the queue.\n",
            "Valero has joined the queue.\n",
            "Lozano has joined the queue.\n",
            "Mendoza has joined the queue.\n",
            "Ferreras has joined the queue.\n",
            "Guzman has joined the queue.\n",
            "Current cat queue: ['Despi', 'Valero', 'Lozano', 'Mendoza', 'Ferreras', 'Guzman']\n",
            "Despi is now drinking.\n",
            "Valero is now drinking.\n",
            "Lozano is now drinking.\n",
            "Mendoza is now drinking.\n",
            "Ferreras is now drinking.\n",
            "Guzman is now drinking.\n",
            "No cats in the queue.\n"
          ]
        }
      ],
      "source": [
        "#Cat Queue System\n",
        "class CatQueue:\n",
        "    def __init__(self):\n",
        "        self.queue = []\n",
        "\n",
        "    def add_cat(self, cat_name):\n",
        "        self.queue.append(cat_name)\n",
        "        print(f'{cat_name} has joined the queue.')\n",
        "\n",
        "    def serve_cat(self):\n",
        "        if self.queue:\n",
        "            cat_to_serve = self.queue.pop(0)\n",
        "            print(f'{cat_to_serve} is now drinking.')\n",
        "        else:\n",
        "            print('No cats in the queue.')\n",
        "\n",
        "    def display_queue(self):\n",
        "        print('Current cat queue:', self.queue)\n",
        "\n",
        "\n",
        "# Example usage\n",
        "cat_queue = CatQueue()\n",
        "\n",
        "# Add cats to the queue\n",
        "cat_queue.add_cat('Despi')\n",
        "cat_queue.add_cat('Valero')\n",
        "cat_queue.add_cat('Lozano')\n",
        "cat_queue.add_cat('Mendoza')\n",
        "cat_queue.add_cat('Ferreras')\n",
        "cat_queue.add_cat('Guzman')\n",
        "\n",
        "# Display the queue\n",
        "cat_queue.display_queue()\n",
        "\n",
        "# Serve cats\n",
        "cat_queue.serve_cat()\n",
        "cat_queue.serve_cat()\n",
        "cat_queue.serve_cat()\n",
        "cat_queue.serve_cat()\n",
        "cat_queue.serve_cat()\n",
        "cat_queue.serve_cat()\n",
        "cat_queue.serve_cat()"
      ]
    }
  ]
}